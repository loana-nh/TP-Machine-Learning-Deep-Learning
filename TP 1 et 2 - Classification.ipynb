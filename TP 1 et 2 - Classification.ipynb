{
 "cells": [
  {
   "cell_type": "markdown",
   "metadata": {},
   "source": [
    "# Contexte\n",
    "AB Consultants est une société qui sous-traite ses employés en tant que consultants auprès de diverses sociétés informatiques. Ils sont dans l'industrie depuis longtemps. Leur activité avait assez bien progressé par rapport au passé, mais ces derniers temps, il y a eu un ralentissement en termes de croissance parce que leurs meilleurs employés et les plus expérimentés ont commencé à quitter l'entreprise. Le vice-président de l’entreprise n’est pas très satisfait de leurs départs prématurés. Il vous a employé pour obtenir des informations sur les données des employés de la société et trouver une réponse pour savoir pourquoi les meilleurs employés et les plus expérimentés partent.\n",
    "\n",
    "# Objectif\n",
    "Le vice-président vous a exposé les exigences. En tant qu'analyste de données de l'entreprise, il vous appartient désormais de faire l'analyse requise et de découvrir les raisons pour lesquelles les meilleurs employés partent si tôt.\n",
    "En utilisant Python, vous dérivez un modèle de prévision pour prédire quels employés pourraient quitter l'entreprise, ainsi qu'une probabilité de savoir pourquoi nos employés partent prématurément. Cela aidera à planifier nos prochaines étapes pour éviter le désabonnement. La base de données est en joint de ce dossier (HR_Data.csv)\n",
    "\n",
    "Vous décidez de créer un notebook qui contiendra les éléments suivants :\n",
    "-\tLecture de la base de données\n",
    "-\tAnalyse sur la complétude des données, les valeurs aberrantes…\n",
    "-\tAnalyse statistique, indicateurs afin de comprendre mieux les données\n",
    "-\tVisualisation et distribution (de tous les champs relatifs aux employés)\n",
    "-\tEtudiez la matrice de corrélation des variables entre elles \n",
    "-\tComparez différents modèles d'apprentissage automatique \n",
    "-\tDécouvrez pourquoi les meilleurs employés et les plus expérimentés partent prématurément\n",
    "-\tDonner un modèle de prédiction finale (le meilleur) aux prévisions\n",
    "\n",
    "## Description de la base de données\n",
    "Cette base de donnée se compose de 10 variables (colonnes) et de 14 999 observations (lignes). Chaque ligne représente un employé qui a des valeurs révélatrices pour chaque 10 variables :\n",
    "- satisfaction_level : représente le niveau de satisfaction des employés entre 0 et 1, où 0 représente le niveau le plus faible et 1 le niveau le plus élevé.\n",
    "- last_evaluation : représente le temps écoulé depuis la dernière évaluation de l'employé.\n",
    "- number_project : représente le nombre de projets réalisés par l'employé jusqu'à présent.\n",
    "- average_montly_hours : représente les heures mensuelles moyennes que l'employé a passées dans l'organisation.\n",
    "- time_spend_company : représente le nombre d'années que l'employé a passé dans l'entreprise.\n",
    "- Work_accident : indique s'ils ont un accident de travail ou non pendant qu'ils travaillent, où 0 signifie Non et 1 signifie Oui.\n",
    "- promotion_last_5years : indique si l'employé a obtenu une promotion ou non au cours des 5 dernières années, où 0 signifie Non et 1 signifie Oui.\n",
    "- sales : représente le département dans lequel l'employé travaille ou travaillait.\n",
    "- salary : représente le salaire de l'employé, qu'il soit bas, moyen ou élevé.\n",
    "- left : indique si l'employé a quitté l'organisation ou non, où 0 signifie Non et 1 signifie Oui."
   ]
  },
  {
   "cell_type": "markdown",
   "metadata": {},
   "source": [
    "## Lecture de la base de données"
   ]
  },
  {
   "cell_type": "code",
   "execution_count": 21,
   "metadata": {},
   "outputs": [],
   "source": [
    "%matplotlib inline\n",
    "import pandas as pd  \n",
    "import numpy as np\n",
    "import matplotlib.pyplot as plt\n",
    "import seaborn as sns"
   ]
  },
  {
   "cell_type": "code",
   "execution_count": 22,
   "metadata": {},
   "outputs": [
    {
     "data": {
      "text/html": [
       "<div>\n",
       "<style scoped>\n",
       "    .dataframe tbody tr th:only-of-type {\n",
       "        vertical-align: middle;\n",
       "    }\n",
       "\n",
       "    .dataframe tbody tr th {\n",
       "        vertical-align: top;\n",
       "    }\n",
       "\n",
       "    .dataframe thead th {\n",
       "        text-align: right;\n",
       "    }\n",
       "</style>\n",
       "<table border=\"1\" class=\"dataframe\">\n",
       "  <thead>\n",
       "    <tr style=\"text-align: right;\">\n",
       "      <th></th>\n",
       "      <th>satisfaction_level</th>\n",
       "      <th>last_evaluation</th>\n",
       "      <th>number_project</th>\n",
       "      <th>average_montly_hours</th>\n",
       "      <th>time_spend_company</th>\n",
       "      <th>Work_accident</th>\n",
       "      <th>left</th>\n",
       "      <th>promotion_last_5years</th>\n",
       "      <th>sales</th>\n",
       "      <th>salary</th>\n",
       "    </tr>\n",
       "  </thead>\n",
       "  <tbody>\n",
       "    <tr>\n",
       "      <th>0</th>\n",
       "      <td>0.38</td>\n",
       "      <td>0.53</td>\n",
       "      <td>2</td>\n",
       "      <td>157</td>\n",
       "      <td>3</td>\n",
       "      <td>0</td>\n",
       "      <td>1</td>\n",
       "      <td>0</td>\n",
       "      <td>sales</td>\n",
       "      <td>low</td>\n",
       "    </tr>\n",
       "    <tr>\n",
       "      <th>1</th>\n",
       "      <td>0.80</td>\n",
       "      <td>0.86</td>\n",
       "      <td>5</td>\n",
       "      <td>262</td>\n",
       "      <td>6</td>\n",
       "      <td>0</td>\n",
       "      <td>1</td>\n",
       "      <td>0</td>\n",
       "      <td>sales</td>\n",
       "      <td>medium</td>\n",
       "    </tr>\n",
       "    <tr>\n",
       "      <th>2</th>\n",
       "      <td>0.11</td>\n",
       "      <td>0.88</td>\n",
       "      <td>7</td>\n",
       "      <td>272</td>\n",
       "      <td>4</td>\n",
       "      <td>0</td>\n",
       "      <td>1</td>\n",
       "      <td>0</td>\n",
       "      <td>sales</td>\n",
       "      <td>medium</td>\n",
       "    </tr>\n",
       "    <tr>\n",
       "      <th>3</th>\n",
       "      <td>0.72</td>\n",
       "      <td>0.87</td>\n",
       "      <td>5</td>\n",
       "      <td>223</td>\n",
       "      <td>5</td>\n",
       "      <td>0</td>\n",
       "      <td>1</td>\n",
       "      <td>0</td>\n",
       "      <td>sales</td>\n",
       "      <td>low</td>\n",
       "    </tr>\n",
       "    <tr>\n",
       "      <th>4</th>\n",
       "      <td>0.37</td>\n",
       "      <td>0.52</td>\n",
       "      <td>2</td>\n",
       "      <td>159</td>\n",
       "      <td>3</td>\n",
       "      <td>0</td>\n",
       "      <td>1</td>\n",
       "      <td>0</td>\n",
       "      <td>sales</td>\n",
       "      <td>low</td>\n",
       "    </tr>\n",
       "    <tr>\n",
       "      <th>...</th>\n",
       "      <td>...</td>\n",
       "      <td>...</td>\n",
       "      <td>...</td>\n",
       "      <td>...</td>\n",
       "      <td>...</td>\n",
       "      <td>...</td>\n",
       "      <td>...</td>\n",
       "      <td>...</td>\n",
       "      <td>...</td>\n",
       "      <td>...</td>\n",
       "    </tr>\n",
       "    <tr>\n",
       "      <th>14994</th>\n",
       "      <td>0.40</td>\n",
       "      <td>0.57</td>\n",
       "      <td>2</td>\n",
       "      <td>151</td>\n",
       "      <td>3</td>\n",
       "      <td>0</td>\n",
       "      <td>1</td>\n",
       "      <td>0</td>\n",
       "      <td>support</td>\n",
       "      <td>low</td>\n",
       "    </tr>\n",
       "    <tr>\n",
       "      <th>14995</th>\n",
       "      <td>0.37</td>\n",
       "      <td>0.48</td>\n",
       "      <td>2</td>\n",
       "      <td>160</td>\n",
       "      <td>3</td>\n",
       "      <td>0</td>\n",
       "      <td>1</td>\n",
       "      <td>0</td>\n",
       "      <td>support</td>\n",
       "      <td>low</td>\n",
       "    </tr>\n",
       "    <tr>\n",
       "      <th>14996</th>\n",
       "      <td>0.37</td>\n",
       "      <td>0.53</td>\n",
       "      <td>2</td>\n",
       "      <td>143</td>\n",
       "      <td>3</td>\n",
       "      <td>0</td>\n",
       "      <td>1</td>\n",
       "      <td>0</td>\n",
       "      <td>support</td>\n",
       "      <td>low</td>\n",
       "    </tr>\n",
       "    <tr>\n",
       "      <th>14997</th>\n",
       "      <td>0.11</td>\n",
       "      <td>0.96</td>\n",
       "      <td>6</td>\n",
       "      <td>280</td>\n",
       "      <td>4</td>\n",
       "      <td>0</td>\n",
       "      <td>1</td>\n",
       "      <td>0</td>\n",
       "      <td>support</td>\n",
       "      <td>low</td>\n",
       "    </tr>\n",
       "    <tr>\n",
       "      <th>14998</th>\n",
       "      <td>0.37</td>\n",
       "      <td>0.52</td>\n",
       "      <td>2</td>\n",
       "      <td>158</td>\n",
       "      <td>3</td>\n",
       "      <td>0</td>\n",
       "      <td>1</td>\n",
       "      <td>0</td>\n",
       "      <td>support</td>\n",
       "      <td>low</td>\n",
       "    </tr>\n",
       "  </tbody>\n",
       "</table>\n",
       "<p>14999 rows × 10 columns</p>\n",
       "</div>"
      ],
      "text/plain": [
       "       satisfaction_level  last_evaluation  number_project  \\\n",
       "0                    0.38             0.53               2   \n",
       "1                    0.80             0.86               5   \n",
       "2                    0.11             0.88               7   \n",
       "3                    0.72             0.87               5   \n",
       "4                    0.37             0.52               2   \n",
       "...                   ...              ...             ...   \n",
       "14994                0.40             0.57               2   \n",
       "14995                0.37             0.48               2   \n",
       "14996                0.37             0.53               2   \n",
       "14997                0.11             0.96               6   \n",
       "14998                0.37             0.52               2   \n",
       "\n",
       "       average_montly_hours  time_spend_company  Work_accident  left  \\\n",
       "0                       157                   3              0     1   \n",
       "1                       262                   6              0     1   \n",
       "2                       272                   4              0     1   \n",
       "3                       223                   5              0     1   \n",
       "4                       159                   3              0     1   \n",
       "...                     ...                 ...            ...   ...   \n",
       "14994                   151                   3              0     1   \n",
       "14995                   160                   3              0     1   \n",
       "14996                   143                   3              0     1   \n",
       "14997                   280                   4              0     1   \n",
       "14998                   158                   3              0     1   \n",
       "\n",
       "       promotion_last_5years    sales  salary  \n",
       "0                          0    sales     low  \n",
       "1                          0    sales  medium  \n",
       "2                          0    sales  medium  \n",
       "3                          0    sales     low  \n",
       "4                          0    sales     low  \n",
       "...                      ...      ...     ...  \n",
       "14994                      0  support     low  \n",
       "14995                      0  support     low  \n",
       "14996                      0  support     low  \n",
       "14997                      0  support     low  \n",
       "14998                      0  support     low  \n",
       "\n",
       "[14999 rows x 10 columns]"
      ]
     },
     "execution_count": 22,
     "metadata": {},
     "output_type": "execute_result"
    }
   ],
   "source": [
    "data = pd.read_csv('HR_DATA.csv')\n",
    "data"
   ]
  },
  {
   "cell_type": "markdown",
   "metadata": {},
   "source": [
    "## Analyse sur la complétude des données"
   ]
  },
  {
   "cell_type": "code",
   "execution_count": 23,
   "metadata": {},
   "outputs": [
    {
     "name": "stdout",
     "output_type": "stream",
     "text": [
      "<class 'pandas.core.frame.DataFrame'>\n",
      "RangeIndex: 14999 entries, 0 to 14998\n",
      "Data columns (total 10 columns):\n",
      " #   Column                 Non-Null Count  Dtype  \n",
      "---  ------                 --------------  -----  \n",
      " 0   satisfaction_level     14999 non-null  float64\n",
      " 1   last_evaluation        14999 non-null  float64\n",
      " 2   number_project         14999 non-null  int64  \n",
      " 3   average_montly_hours   14999 non-null  int64  \n",
      " 4   time_spend_company     14999 non-null  int64  \n",
      " 5   Work_accident          14999 non-null  int64  \n",
      " 6   left                   14999 non-null  int64  \n",
      " 7   promotion_last_5years  14999 non-null  int64  \n",
      " 8   sales                  14999 non-null  object \n",
      " 9   salary                 14999 non-null  object \n",
      "dtypes: float64(2), int64(6), object(2)\n",
      "memory usage: 1.1+ MB\n"
     ]
    }
   ],
   "source": [
    "# Vérification du type de données et des valeurs nulles pour chaque colonne\n",
    "data.info()"
   ]
  },
  {
   "cell_type": "markdown",
   "metadata": {},
   "source": [
    "Les résultats ci-dessus nous suggèrent qu'il n'y a pas de valeurs nulles dans notre ensemble de données et que les types de données sont également corrects pour toutes les colonnes.\n",
    "\n",
    "## Analyse statistique"
   ]
  },
  {
   "cell_type": "code",
   "execution_count": 24,
   "metadata": {},
   "outputs": [
    {
     "data": {
      "text/html": [
       "<div>\n",
       "<style scoped>\n",
       "    .dataframe tbody tr th:only-of-type {\n",
       "        vertical-align: middle;\n",
       "    }\n",
       "\n",
       "    .dataframe tbody tr th {\n",
       "        vertical-align: top;\n",
       "    }\n",
       "\n",
       "    .dataframe thead th {\n",
       "        text-align: right;\n",
       "    }\n",
       "</style>\n",
       "<table border=\"1\" class=\"dataframe\">\n",
       "  <thead>\n",
       "    <tr style=\"text-align: right;\">\n",
       "      <th></th>\n",
       "      <th>satisfaction_level</th>\n",
       "      <th>last_evaluation</th>\n",
       "      <th>number_project</th>\n",
       "      <th>average_montly_hours</th>\n",
       "      <th>time_spend_company</th>\n",
       "      <th>Work_accident</th>\n",
       "      <th>left</th>\n",
       "      <th>promotion_last_5years</th>\n",
       "    </tr>\n",
       "  </thead>\n",
       "  <tbody>\n",
       "    <tr>\n",
       "      <th>count</th>\n",
       "      <td>14999.000000</td>\n",
       "      <td>14999.000000</td>\n",
       "      <td>14999.000000</td>\n",
       "      <td>14999.000000</td>\n",
       "      <td>14999.000000</td>\n",
       "      <td>14999.000000</td>\n",
       "      <td>14999.000000</td>\n",
       "      <td>14999.000000</td>\n",
       "    </tr>\n",
       "    <tr>\n",
       "      <th>mean</th>\n",
       "      <td>0.612834</td>\n",
       "      <td>0.716102</td>\n",
       "      <td>3.803054</td>\n",
       "      <td>201.050337</td>\n",
       "      <td>3.498233</td>\n",
       "      <td>0.144610</td>\n",
       "      <td>0.238083</td>\n",
       "      <td>0.021268</td>\n",
       "    </tr>\n",
       "    <tr>\n",
       "      <th>std</th>\n",
       "      <td>0.248631</td>\n",
       "      <td>0.171169</td>\n",
       "      <td>1.232592</td>\n",
       "      <td>49.943099</td>\n",
       "      <td>1.460136</td>\n",
       "      <td>0.351719</td>\n",
       "      <td>0.425924</td>\n",
       "      <td>0.144281</td>\n",
       "    </tr>\n",
       "    <tr>\n",
       "      <th>min</th>\n",
       "      <td>0.090000</td>\n",
       "      <td>0.360000</td>\n",
       "      <td>2.000000</td>\n",
       "      <td>96.000000</td>\n",
       "      <td>2.000000</td>\n",
       "      <td>0.000000</td>\n",
       "      <td>0.000000</td>\n",
       "      <td>0.000000</td>\n",
       "    </tr>\n",
       "    <tr>\n",
       "      <th>25%</th>\n",
       "      <td>0.440000</td>\n",
       "      <td>0.560000</td>\n",
       "      <td>3.000000</td>\n",
       "      <td>156.000000</td>\n",
       "      <td>3.000000</td>\n",
       "      <td>0.000000</td>\n",
       "      <td>0.000000</td>\n",
       "      <td>0.000000</td>\n",
       "    </tr>\n",
       "    <tr>\n",
       "      <th>50%</th>\n",
       "      <td>0.640000</td>\n",
       "      <td>0.720000</td>\n",
       "      <td>4.000000</td>\n",
       "      <td>200.000000</td>\n",
       "      <td>3.000000</td>\n",
       "      <td>0.000000</td>\n",
       "      <td>0.000000</td>\n",
       "      <td>0.000000</td>\n",
       "    </tr>\n",
       "    <tr>\n",
       "      <th>75%</th>\n",
       "      <td>0.820000</td>\n",
       "      <td>0.870000</td>\n",
       "      <td>5.000000</td>\n",
       "      <td>245.000000</td>\n",
       "      <td>4.000000</td>\n",
       "      <td>0.000000</td>\n",
       "      <td>0.000000</td>\n",
       "      <td>0.000000</td>\n",
       "    </tr>\n",
       "    <tr>\n",
       "      <th>max</th>\n",
       "      <td>1.000000</td>\n",
       "      <td>1.000000</td>\n",
       "      <td>7.000000</td>\n",
       "      <td>310.000000</td>\n",
       "      <td>10.000000</td>\n",
       "      <td>1.000000</td>\n",
       "      <td>1.000000</td>\n",
       "      <td>1.000000</td>\n",
       "    </tr>\n",
       "  </tbody>\n",
       "</table>\n",
       "</div>"
      ],
      "text/plain": [
       "       satisfaction_level  last_evaluation  number_project  \\\n",
       "count        14999.000000     14999.000000    14999.000000   \n",
       "mean             0.612834         0.716102        3.803054   \n",
       "std              0.248631         0.171169        1.232592   \n",
       "min              0.090000         0.360000        2.000000   \n",
       "25%              0.440000         0.560000        3.000000   \n",
       "50%              0.640000         0.720000        4.000000   \n",
       "75%              0.820000         0.870000        5.000000   \n",
       "max              1.000000         1.000000        7.000000   \n",
       "\n",
       "       average_montly_hours  time_spend_company  Work_accident          left  \\\n",
       "count          14999.000000        14999.000000   14999.000000  14999.000000   \n",
       "mean             201.050337            3.498233       0.144610      0.238083   \n",
       "std               49.943099            1.460136       0.351719      0.425924   \n",
       "min               96.000000            2.000000       0.000000      0.000000   \n",
       "25%              156.000000            3.000000       0.000000      0.000000   \n",
       "50%              200.000000            3.000000       0.000000      0.000000   \n",
       "75%              245.000000            4.000000       0.000000      0.000000   \n",
       "max              310.000000           10.000000       1.000000      1.000000   \n",
       "\n",
       "       promotion_last_5years  \n",
       "count           14999.000000  \n",
       "mean                0.021268  \n",
       "std                 0.144281  \n",
       "min                 0.000000  \n",
       "25%                 0.000000  \n",
       "50%                 0.000000  \n",
       "75%                 0.000000  \n",
       "max                 1.000000  "
      ]
     },
     "execution_count": 24,
     "metadata": {},
     "output_type": "execute_result"
    }
   ],
   "source": [
    "data.describe()"
   ]
  },
  {
   "cell_type": "markdown",
   "metadata": {},
   "source": [
    "Le niveau moyen de satisfaction des salariés est de 0,6128, le nombre moyen de projets réalisés par les salariés est d'environ 4, le nombre moyen d'heures mensuelles passées par les salariés est de 201,0503 et le temps moyen passé en entreprise par les salariés est d'environ 4 ans."
   ]
  },
  {
   "cell_type": "code",
   "execution_count": 25,
   "metadata": {},
   "outputs": [
    {
     "name": "stdout",
     "output_type": "stream",
     "text": [
      "Départements :\n",
      " sales          4140\n",
      "technical      2720\n",
      "support        2229\n",
      "IT             1227\n",
      "product_mng     902\n",
      "marketing       858\n",
      "RandD           787\n",
      "accounting      767\n",
      "hr              739\n",
      "management      630\n",
      "\n",
      "Tranches de salaire :\n",
      " low       7316\n",
      "medium    6446\n",
      "high      1237\n"
     ]
    }
   ],
   "source": [
    "print(\"Départements :\\n\", data['sales'].value_counts().to_string())\n",
    "print(\"\\nTranches de salaire :\\n\", data['salary'].value_counts().to_string())"
   ]
  },
  {
   "cell_type": "markdown",
   "metadata": {},
   "source": [
    "Sur l'ensemble des 10 départements, la plupart des employés sont dans le secteur de la vente, tandis que le nombre d'employés dans le secteur de la gestion est le plus faible. Les colonnes relatives aux salaires suggèrent que, d'après les données disponibles, la plupart des employés sont mal payés.\n",
    "\n",
    "Nous allons maintenant essayer d'explorer les données en regroupant différentes colonnes avec notre variable cible 'left' afin de générer un aperçu."
   ]
  },
  {
   "cell_type": "code",
   "execution_count": 26,
   "metadata": {},
   "outputs": [
    {
     "data": {
      "text/plain": [
       "0    11428\n",
       "1     3571\n",
       "Name: left, dtype: int64"
      ]
     },
     "execution_count": 26,
     "metadata": {},
     "output_type": "execute_result"
    }
   ],
   "source": [
    "data['left'].value_counts()"
   ]
  },
  {
   "cell_type": "code",
   "execution_count": 27,
   "metadata": {},
   "outputs": [
    {
     "data": {
      "text/plain": [
       "<seaborn.axisgrid.FacetGrid at 0x148cb7ebee0>"
      ]
     },
     "execution_count": 27,
     "metadata": {},
     "output_type": "execute_result"
    },
    {
     "data": {
      "image/png": "[encoded data removed]",
      "text/plain": [
       "<Figure size 360x360 with 1 Axes>"
      ]
     },
     "metadata": {
      "needs_background": "light"
     },
     "output_type": "display_data"
    }
   ],
   "source": [
    "sns.catplot(data = data,x='left',kind=\"count\")"
   ]
  },
  {
   "cell_type": "markdown",
   "metadata": {},
   "source": [
    "Les résultats ci-dessus nous indiquent que 3571 employés sont partis et 11428 employés sont restés."
   ]
  },
  {
   "cell_type": "code",
   "execution_count": 28,
   "metadata": {
    "scrolled": true
   },
   "outputs": [
    {
     "data": {
      "text/html": [
       "<div>\n",
       "<style scoped>\n",
       "    .dataframe tbody tr th:only-of-type {\n",
       "        vertical-align: middle;\n",
       "    }\n",
       "\n",
       "    .dataframe tbody tr th {\n",
       "        vertical-align: top;\n",
       "    }\n",
       "\n",
       "    .dataframe thead th {\n",
       "        text-align: right;\n",
       "    }\n",
       "</style>\n",
       "<table border=\"1\" class=\"dataframe\">\n",
       "  <thead>\n",
       "    <tr style=\"text-align: right;\">\n",
       "      <th></th>\n",
       "      <th>satisfaction_level</th>\n",
       "      <th>last_evaluation</th>\n",
       "      <th>number_project</th>\n",
       "      <th>average_montly_hours</th>\n",
       "      <th>time_spend_company</th>\n",
       "      <th>Work_accident</th>\n",
       "      <th>promotion_last_5years</th>\n",
       "    </tr>\n",
       "    <tr>\n",
       "      <th>left</th>\n",
       "      <th></th>\n",
       "      <th></th>\n",
       "      <th></th>\n",
       "      <th></th>\n",
       "      <th></th>\n",
       "      <th></th>\n",
       "      <th></th>\n",
       "    </tr>\n",
       "  </thead>\n",
       "  <tbody>\n",
       "    <tr>\n",
       "      <th>0</th>\n",
       "      <td>0.666810</td>\n",
       "      <td>0.715473</td>\n",
       "      <td>3.786664</td>\n",
       "      <td>199.060203</td>\n",
       "      <td>3.380032</td>\n",
       "      <td>0.175009</td>\n",
       "      <td>0.026251</td>\n",
       "    </tr>\n",
       "    <tr>\n",
       "      <th>1</th>\n",
       "      <td>0.440098</td>\n",
       "      <td>0.718113</td>\n",
       "      <td>3.855503</td>\n",
       "      <td>207.419210</td>\n",
       "      <td>3.876505</td>\n",
       "      <td>0.047326</td>\n",
       "      <td>0.005321</td>\n",
       "    </tr>\n",
       "  </tbody>\n",
       "</table>\n",
       "</div>"
      ],
      "text/plain": [
       "      satisfaction_level  last_evaluation  number_project  \\\n",
       "left                                                        \n",
       "0               0.666810         0.715473        3.786664   \n",
       "1               0.440098         0.718113        3.855503   \n",
       "\n",
       "      average_montly_hours  time_spend_company  Work_accident  \\\n",
       "left                                                            \n",
       "0               199.060203            3.380032       0.175009   \n",
       "1               207.419210            3.876505       0.047326   \n",
       "\n",
       "      promotion_last_5years  \n",
       "left                         \n",
       "0                  0.026251  \n",
       "1                  0.005321  "
      ]
     },
     "execution_count": 28,
     "metadata": {},
     "output_type": "execute_result"
    }
   ],
   "source": [
    "data.groupby('left').mean()"
   ]
  },
  {
   "cell_type": "code",
   "execution_count": 29,
   "metadata": {
    "scrolled": true
   },
   "outputs": [
    {
     "name": "stdout",
     "output_type": "stream",
     "text": [
      "Left Vs all numeric variable:\n",
      "\n",
      "       satisfaction_level  last_evaluation  number_project  \\\n",
      "left                                                        \n",
      "0               0.666810         0.715473        3.786664   \n",
      "1               0.440098         0.718113        3.855503   \n",
      "\n",
      "      average_montly_hours  time_spend_company  Work_accident  \\\n",
      "left                                                            \n",
      "0               199.060203            3.380032       0.175009   \n",
      "1               207.419210            3.876505       0.047326   \n",
      "\n",
      "      promotion_last_5years  \n",
      "left                         \n",
      "0                  0.026251  \n",
      "1                  0.005321  \n"
     ]
    }
   ],
   "source": [
    "print('Left Vs all numeric variable:\\n\\n',data.groupby('left').mean())"
   ]
  },
  {
   "cell_type": "markdown",
   "metadata": {},
   "source": [
    "#### Raisons qui semblent rationnelles :\n",
    "- Les personnes ayant un faible niveau de satisfaction\n",
    "- Les personnes ayant un salaire moins élevé\n",
    "- Les personnes ayant un faible taux de promotion\n",
    "- Les personnes qui ont travaillé plus"
   ]
  },
  {
   "cell_type": "markdown",
   "metadata": {},
   "source": [
    "## Visualisation et distribution\n",
    "\n",
    "#### Promotion au cours des 5 dernières années"
   ]
  },
  {
   "cell_type": "code",
   "execution_count": 30,
   "metadata": {},
   "outputs": [
    {
     "name": "stderr",
     "output_type": "stream",
     "text": [
      "C:\\Users\\Loana\\anaconda3\\lib\\site-packages\\seaborn\\_decorators.py:36: FutureWarning: Pass the following variable as a keyword arg: x. From version 0.12, the only valid positional argument will be `data`, and passing other arguments without an explicit keyword will result in an error or misinterpretation.\n",
      "  warnings.warn(\n"
     ]
    },
    {
     "data": {
      "text/plain": [
       "Text(0, 0.5, \"Nombre d'employés\")"
      ]
     },
     "execution_count": 30,
     "metadata": {},
     "output_type": "execute_result"
    },
    {
     "data": {
      "image/png": "[encoded data removed]",
      "text/plain": [
       "<Figure size 576x288 with 1 Axes>"
      ]
     },
     "metadata": {
      "needs_background": "light"
     },
     "output_type": "display_data"
    }
   ],
   "source": [
    "plt.figure(figsize = (8,4))\n",
    "sns.countplot(data['promotion_last_5years'], hue=data['left'])\n",
    "plt.title(\"Nombre d'employés promus au cours des 5 dernières années\")\n",
    "plt.legend(title='Left')\n",
    "plt.xlabel('Promotion au cours des 5 dernières années')\n",
    "plt.ylabel(\"Nombre d'employés\")"
   ]
  },
  {
   "cell_type": "markdown",
   "metadata": {},
   "source": [
    "Moins de 4000 salariés ont quitté l'entreprise car ils ne sont pas satisfaits de leur niveau de promotion.\n",
    "\n",
    "#### Niveau de salaire"
   ]
  },
  {
   "cell_type": "code",
   "execution_count": 31,
   "metadata": {},
   "outputs": [
    {
     "name": "stderr",
     "output_type": "stream",
     "text": [
      "C:\\Users\\Loana\\anaconda3\\lib\\site-packages\\seaborn\\_decorators.py:36: FutureWarning: Pass the following variable as a keyword arg: x. From version 0.12, the only valid positional argument will be `data`, and passing other arguments without an explicit keyword will result in an error or misinterpretation.\n",
      "  warnings.warn(\n"
     ]
    },
    {
     "data": {
      "text/plain": [
       "Text(0, 0.5, \"Nombre d'employés\")"
      ]
     },
     "execution_count": 31,
     "metadata": {},
     "output_type": "execute_result"
    },
    {
     "data": {
      "image/png": "[encoded data removed]",
      "text/plain": [
       "<Figure size 432x288 with 1 Axes>"
      ]
     },
     "metadata": {
      "needs_background": "light"
     },
     "output_type": "display_data"
    }
   ],
   "source": [
    "plt.figure()\n",
    "sns.countplot(data['salary'], hue=data['left'])\n",
    "plt.title('Niveau de salaire des employés')\n",
    "plt.legend(title='Left')\n",
    "plt.xlabel('Tranches de salaires')\n",
    "plt.ylabel(\"Nombre d'employés\")"
   ]
  },
  {
   "cell_type": "markdown",
   "metadata": {},
   "source": [
    "Il semble que les salariés avec des niveaux de salaires faibles ou moyens sont plus susceptible de quitter l'entreprise.\n",
    "\n",
    "#### Accident de travail"
   ]
  },
  {
   "cell_type": "code",
   "execution_count": 32,
   "metadata": {},
   "outputs": [
    {
     "name": "stderr",
     "output_type": "stream",
     "text": [
      "C:\\Users\\Loana\\anaconda3\\lib\\site-packages\\seaborn\\_decorators.py:36: FutureWarning: Pass the following variable as a keyword arg: x. From version 0.12, the only valid positional argument will be `data`, and passing other arguments without an explicit keyword will result in an error or misinterpretation.\n",
      "  warnings.warn(\n"
     ]
    },
    {
     "data": {
      "text/plain": [
       "Text(0, 0.5, \"Nombre d'employés\")"
      ]
     },
     "execution_count": 32,
     "metadata": {},
     "output_type": "execute_result"
    },
    {
     "data": {
      "image/png": "[encoded data removed]",
      "text/plain": [
       "<Figure size 576x288 with 1 Axes>"
      ]
     },
     "metadata": {
      "needs_background": "light"
     },
     "output_type": "display_data"
    }
   ],
   "source": [
    "plt.figure(figsize = (8,4))\n",
    "sns.countplot(data['Work_accident'], hue=data['left'])\n",
    "plt.title('Accident de travail des employés')\n",
    "plt.legend(title='Left')\n",
    "plt.xlabel('Accident de travail')\n",
    "plt.ylabel(\"Nombre d'employés\")"
   ]
  },
  {
   "cell_type": "markdown",
   "metadata": {},
   "source": [
    "De nombreux salariés ont quitté l'entreprise alors qu'ils n'avaient pas eu d'accident de travail. Ainsi, l'accident de travail ne peut pas généraliser la raison pour laquelle un salarié a quitté l'entreprise.\n",
    "\n",
    "#### Niveau de satisfaction"
   ]
  },
  {
   "cell_type": "code",
   "execution_count": 33,
   "metadata": {},
   "outputs": [
    {
     "data": {
      "text/plain": [
       "Text(0, 0.5, \"Nombre d'employés\")"
      ]
     },
     "execution_count": 33,
     "metadata": {},
     "output_type": "execute_result"
    },
    {
     "data": {
      "image/png": "[encoded data removed]",
      "text/plain": [
       "<Figure size 432x288 with 1 Axes>"
      ]
     },
     "metadata": {
      "needs_background": "light"
     },
     "output_type": "display_data"
    }
   ],
   "source": [
    "plt.figure()\n",
    "plt.hist(data[data['left'] == 1]['satisfaction_level'], bins=20, alpha = 0.7, label='Employés partis',color='black')\n",
    "plt.hist(data[data['left'] == 0]['satisfaction_level'],bins=20,alpha = 0.2, label='Employés restés',color='blue')\n",
    "plt.legend()\n",
    "plt.title('Niveau de satisfaction des employés')\n",
    "plt.xlabel('Niveau de satisfaction')\n",
    "plt.ylabel(\"Nombre d'employés\")"
   ]
  },
  {
   "cell_type": "markdown",
   "metadata": {},
   "source": [
    "De toute évidence, de nombreuses personnes qui avaient montré moins de 50% de satisfaction ont quitté l'entreprise.\n",
    "\n",
    "#### Département"
   ]
  },
  {
   "cell_type": "code",
   "execution_count": 34,
   "metadata": {},
   "outputs": [
    {
     "name": "stderr",
     "output_type": "stream",
     "text": [
      "C:\\Users\\Loana\\anaconda3\\lib\\site-packages\\seaborn\\_decorators.py:36: FutureWarning: Pass the following variable as a keyword arg: x. From version 0.12, the only valid positional argument will be `data`, and passing other arguments without an explicit keyword will result in an error or misinterpretation.\n",
      "  warnings.warn(\n"
     ]
    },
    {
     "data": {
      "text/plain": [
       "Text(0, 0.5, \"Nombre d'employés\")"
      ]
     },
     "execution_count": 34,
     "metadata": {},
     "output_type": "execute_result"
    },
    {
     "data": {
      "image/png": "[encoded data removed]",
      "text/plain": [
       "<Figure size 792x360 with 1 Axes>"
      ]
     },
     "metadata": {
      "needs_background": "light"
     },
     "output_type": "display_data"
    }
   ],
   "source": [
    "plt.figure(figsize=(11,5))\n",
    "sns.countplot(data['sales'], hue=data['left'])\n",
    "plt.title('Département des employés')\n",
    "plt.legend(title='Left')\n",
    "plt.xlabel('Départements')\n",
    "plt.ylabel(\"Nombre d'employés\")"
   ]
  },
  {
   "cell_type": "markdown",
   "metadata": {},
   "source": [
    "La majorité des salariés qui sont partis appartiennent aux départements des ventes, de la comptabilité et des techniques par rapport aux autres départements."
   ]
  },
  {
   "cell_type": "markdown",
   "metadata": {},
   "source": [
    "## Comparaison de différents modèles\n",
    "\n",
    "### Data pre-processing\n",
    "Il est nécessaire de traiter les variables catégorielles car tout modèle de Machine Learning ne peut accepter que des valeurs numériques. Il est donc nécessaire de préparer nos données sous forme numérique pour les intégrer dans les modèles."
   ]
  },
  {
   "cell_type": "code",
   "execution_count": 35,
   "metadata": {},
   "outputs": [
    {
     "data": {
      "text/plain": [
       "Index(['satisfaction_level', 'last_evaluation', 'number_project',\n",
       "       'average_montly_hours', 'time_spend_company', 'Work_accident', 'left',\n",
       "       'promotion_last_5years', 'salary', 'sales_IT', 'sales_RandD',\n",
       "       'sales_accounting', 'sales_hr', 'sales_management', 'sales_marketing',\n",
       "       'sales_product_mng', 'sales_sales', 'sales_support', 'sales_technical'],\n",
       "      dtype='object')"
      ]
     },
     "execution_count": 35,
     "metadata": {},
     "output_type": "execute_result"
    }
   ],
   "source": [
    "data = pd.get_dummies(data, columns=['sales']) #variable catégorielle nominale\n",
    "data.columns"
   ]
  },
  {
   "cell_type": "code",
   "execution_count": 36,
   "metadata": {},
   "outputs": [
    {
     "data": {
      "text/plain": [
       "3    7316\n",
       "2    6446\n",
       "1    1237\n",
       "Name: salary_numeric, dtype: int64"
      ]
     },
     "execution_count": 36,
     "metadata": {},
     "output_type": "execute_result"
    }
   ],
   "source": [
    "salary_range = { #variable catégorielle ordinale\n",
    "    'low': 3,\n",
    "    'medium': 2,\n",
    "    'high': 1\n",
    "}\n",
    "        \n",
    "data['salary_numeric'] = data.salary.map(salary_range)\n",
    "data['salary_numeric'].value_counts()"
   ]
  },
  {
   "cell_type": "code",
   "execution_count": 37,
   "metadata": {
    "scrolled": true
   },
   "outputs": [
    {
     "data": {
      "text/plain": [
       "Index(['satisfaction_level', 'last_evaluation', 'number_project',\n",
       "       'average_montly_hours', 'time_spend_company', 'Work_accident', 'left',\n",
       "       'promotion_last_5years', 'sales_IT', 'sales_RandD', 'sales_accounting',\n",
       "       'sales_hr', 'sales_management', 'sales_marketing', 'sales_product_mng',\n",
       "       'sales_sales', 'sales_support', 'sales_technical', 'salary_numeric'],\n",
       "      dtype='object')"
      ]
     },
     "execution_count": 37,
     "metadata": {},
     "output_type": "execute_result"
    }
   ],
   "source": [
    "data.drop(['salary'], axis=1, inplace=True)\n",
    "data.columns"
   ]
  },
  {
   "cell_type": "markdown",
   "metadata": {},
   "source": [
    "### Matrice de corrélation"
   ]
  },
  {
   "cell_type": "code",
   "execution_count": 38,
   "metadata": {
    "scrolled": true
   },
   "outputs": [
    {
     "data": {
      "text/html": [
       "<div>\n",
       "<style scoped>\n",
       "    .dataframe tbody tr th:only-of-type {\n",
       "        vertical-align: middle;\n",
       "    }\n",
       "\n",
       "    .dataframe tbody tr th {\n",
       "        vertical-align: top;\n",
       "    }\n",
       "\n",
       "    .dataframe thead th {\n",
       "        text-align: right;\n",
       "    }\n",
       "</style>\n",
       "<table border=\"1\" class=\"dataframe\">\n",
       "  <thead>\n",
       "    <tr style=\"text-align: right;\">\n",
       "      <th></th>\n",
       "      <th>satisfaction_level</th>\n",
       "      <th>last_evaluation</th>\n",
       "      <th>number_project</th>\n",
       "      <th>average_montly_hours</th>\n",
       "      <th>time_spend_company</th>\n",
       "      <th>Work_accident</th>\n",
       "      <th>left</th>\n",
       "      <th>promotion_last_5years</th>\n",
       "      <th>sales_IT</th>\n",
       "      <th>sales_RandD</th>\n",
       "      <th>sales_accounting</th>\n",
       "      <th>sales_hr</th>\n",
       "      <th>sales_management</th>\n",
       "      <th>sales_marketing</th>\n",
       "      <th>sales_product_mng</th>\n",
       "      <th>sales_sales</th>\n",
       "      <th>sales_support</th>\n",
       "      <th>sales_technical</th>\n",
       "      <th>salary_numeric</th>\n",
       "    </tr>\n",
       "  </thead>\n",
       "  <tbody>\n",
       "    <tr>\n",
       "      <th>satisfaction_level</th>\n",
       "      <td>1.000000</td>\n",
       "      <td>0.105021</td>\n",
       "      <td>-0.142970</td>\n",
       "      <td>-0.020048</td>\n",
       "      <td>-0.100866</td>\n",
       "      <td>0.058697</td>\n",
       "      <td>-0.388375</td>\n",
       "      <td>0.025605</td>\n",
       "      <td>0.006373</td>\n",
       "      <td>0.006615</td>\n",
       "      <td>-0.028649</td>\n",
       "      <td>-0.012841</td>\n",
       "      <td>0.007172</td>\n",
       "      <td>0.005715</td>\n",
       "      <td>0.006919</td>\n",
       "      <td>0.004007</td>\n",
       "      <td>0.009185</td>\n",
       "      <td>-0.009345</td>\n",
       "      <td>-0.050022</td>\n",
       "    </tr>\n",
       "    <tr>\n",
       "      <th>last_evaluation</th>\n",
       "      <td>0.105021</td>\n",
       "      <td>1.000000</td>\n",
       "      <td>0.349333</td>\n",
       "      <td>0.339742</td>\n",
       "      <td>0.131591</td>\n",
       "      <td>-0.007104</td>\n",
       "      <td>0.006567</td>\n",
       "      <td>-0.008684</td>\n",
       "      <td>0.001269</td>\n",
       "      <td>-0.005471</td>\n",
       "      <td>0.002193</td>\n",
       "      <td>-0.009645</td>\n",
       "      <td>0.009662</td>\n",
       "      <td>-0.000311</td>\n",
       "      <td>-0.001989</td>\n",
       "      <td>-0.023031</td>\n",
       "      <td>0.017104</td>\n",
       "      <td>0.013742</td>\n",
       "      <td>0.013002</td>\n",
       "    </tr>\n",
       "    <tr>\n",
       "      <th>number_project</th>\n",
       "      <td>-0.142970</td>\n",
       "      <td>0.349333</td>\n",
       "      <td>1.000000</td>\n",
       "      <td>0.417211</td>\n",
       "      <td>0.196786</td>\n",
       "      <td>-0.004741</td>\n",
       "      <td>0.023787</td>\n",
       "      <td>-0.006064</td>\n",
       "      <td>0.003287</td>\n",
       "      <td>0.009703</td>\n",
       "      <td>0.004189</td>\n",
       "      <td>-0.027356</td>\n",
       "      <td>0.009728</td>\n",
       "      <td>-0.023064</td>\n",
       "      <td>0.000829</td>\n",
       "      <td>-0.013388</td>\n",
       "      <td>0.000303</td>\n",
       "      <td>0.028596</td>\n",
       "      <td>0.001803</td>\n",
       "    </tr>\n",
       "    <tr>\n",
       "      <th>average_montly_hours</th>\n",
       "      <td>-0.020048</td>\n",
       "      <td>0.339742</td>\n",
       "      <td>0.417211</td>\n",
       "      <td>1.000000</td>\n",
       "      <td>0.127755</td>\n",
       "      <td>-0.010143</td>\n",
       "      <td>0.071287</td>\n",
       "      <td>-0.003544</td>\n",
       "      <td>0.006967</td>\n",
       "      <td>-0.001177</td>\n",
       "      <td>0.000524</td>\n",
       "      <td>-0.010783</td>\n",
       "      <td>0.000834</td>\n",
       "      <td>-0.008210</td>\n",
       "      <td>-0.005494</td>\n",
       "      <td>-0.001718</td>\n",
       "      <td>-0.002444</td>\n",
       "      <td>0.013638</td>\n",
       "      <td>0.002242</td>\n",
       "    </tr>\n",
       "    <tr>\n",
       "      <th>time_spend_company</th>\n",
       "      <td>-0.100866</td>\n",
       "      <td>0.131591</td>\n",
       "      <td>0.196786</td>\n",
       "      <td>0.127755</td>\n",
       "      <td>1.000000</td>\n",
       "      <td>0.002120</td>\n",
       "      <td>0.144822</td>\n",
       "      <td>0.067433</td>\n",
       "      <td>-0.006053</td>\n",
       "      <td>-0.021116</td>\n",
       "      <td>0.003909</td>\n",
       "      <td>-0.022194</td>\n",
       "      <td>0.115436</td>\n",
       "      <td>0.012096</td>\n",
       "      <td>-0.003919</td>\n",
       "      <td>0.015150</td>\n",
       "      <td>-0.030111</td>\n",
       "      <td>-0.027991</td>\n",
       "      <td>-0.048715</td>\n",
       "    </tr>\n",
       "    <tr>\n",
       "      <th>Work_accident</th>\n",
       "      <td>0.058697</td>\n",
       "      <td>-0.007104</td>\n",
       "      <td>-0.004741</td>\n",
       "      <td>-0.010143</td>\n",
       "      <td>0.002120</td>\n",
       "      <td>1.000000</td>\n",
       "      <td>-0.154622</td>\n",
       "      <td>0.039245</td>\n",
       "      <td>-0.009293</td>\n",
       "      <td>0.017167</td>\n",
       "      <td>-0.012836</td>\n",
       "      <td>-0.015649</td>\n",
       "      <td>0.011242</td>\n",
       "      <td>0.011367</td>\n",
       "      <td>0.001246</td>\n",
       "      <td>-0.004955</td>\n",
       "      <td>0.012079</td>\n",
       "      <td>-0.006070</td>\n",
       "      <td>-0.009247</td>\n",
       "    </tr>\n",
       "    <tr>\n",
       "      <th>left</th>\n",
       "      <td>-0.388375</td>\n",
       "      <td>0.006567</td>\n",
       "      <td>0.023787</td>\n",
       "      <td>0.071287</td>\n",
       "      <td>0.144822</td>\n",
       "      <td>-0.154622</td>\n",
       "      <td>1.000000</td>\n",
       "      <td>-0.061788</td>\n",
       "      <td>-0.010925</td>\n",
       "      <td>-0.046596</td>\n",
       "      <td>0.015201</td>\n",
       "      <td>0.028249</td>\n",
       "      <td>-0.046035</td>\n",
       "      <td>-0.000859</td>\n",
       "      <td>-0.011029</td>\n",
       "      <td>0.009923</td>\n",
       "      <td>0.010700</td>\n",
       "      <td>0.020076</td>\n",
       "      <td>0.157898</td>\n",
       "    </tr>\n",
       "    <tr>\n",
       "      <th>promotion_last_5years</th>\n",
       "      <td>0.025605</td>\n",
       "      <td>-0.008684</td>\n",
       "      <td>-0.006064</td>\n",
       "      <td>-0.003544</td>\n",
       "      <td>0.067433</td>\n",
       "      <td>0.039245</td>\n",
       "      <td>-0.061788</td>\n",
       "      <td>1.000000</td>\n",
       "      <td>-0.038942</td>\n",
       "      <td>0.021268</td>\n",
       "      <td>-0.004852</td>\n",
       "      <td>-0.001531</td>\n",
       "      <td>0.128087</td>\n",
       "      <td>0.049253</td>\n",
       "      <td>-0.037288</td>\n",
       "      <td>0.012353</td>\n",
       "      <td>-0.035605</td>\n",
       "      <td>-0.035799</td>\n",
       "      <td>-0.098119</td>\n",
       "    </tr>\n",
       "    <tr>\n",
       "      <th>sales_IT</th>\n",
       "      <td>0.006373</td>\n",
       "      <td>0.001269</td>\n",
       "      <td>0.003287</td>\n",
       "      <td>0.006967</td>\n",
       "      <td>-0.006053</td>\n",
       "      <td>-0.009293</td>\n",
       "      <td>-0.010925</td>\n",
       "      <td>-0.038942</td>\n",
       "      <td>1.000000</td>\n",
       "      <td>-0.070240</td>\n",
       "      <td>-0.069293</td>\n",
       "      <td>-0.067949</td>\n",
       "      <td>-0.062500</td>\n",
       "      <td>-0.073524</td>\n",
       "      <td>-0.075503</td>\n",
       "      <td>-0.184302</td>\n",
       "      <td>-0.124705</td>\n",
       "      <td>-0.140484</td>\n",
       "      <td>0.010959</td>\n",
       "    </tr>\n",
       "    <tr>\n",
       "      <th>sales_RandD</th>\n",
       "      <td>0.006615</td>\n",
       "      <td>-0.005471</td>\n",
       "      <td>0.009703</td>\n",
       "      <td>-0.001177</td>\n",
       "      <td>-0.021116</td>\n",
       "      <td>0.017167</td>\n",
       "      <td>-0.046596</td>\n",
       "      <td>0.021268</td>\n",
       "      <td>-0.070240</td>\n",
       "      <td>1.000000</td>\n",
       "      <td>-0.054629</td>\n",
       "      <td>-0.053570</td>\n",
       "      <td>-0.049274</td>\n",
       "      <td>-0.057965</td>\n",
       "      <td>-0.059525</td>\n",
       "      <td>-0.145300</td>\n",
       "      <td>-0.098315</td>\n",
       "      <td>-0.110755</td>\n",
       "      <td>-0.002800</td>\n",
       "    </tr>\n",
       "    <tr>\n",
       "      <th>sales_accounting</th>\n",
       "      <td>-0.028649</td>\n",
       "      <td>0.002193</td>\n",
       "      <td>0.004189</td>\n",
       "      <td>0.000524</td>\n",
       "      <td>0.003909</td>\n",
       "      <td>-0.012836</td>\n",
       "      <td>0.015201</td>\n",
       "      <td>-0.004852</td>\n",
       "      <td>-0.069293</td>\n",
       "      <td>-0.054629</td>\n",
       "      <td>1.000000</td>\n",
       "      <td>-0.052848</td>\n",
       "      <td>-0.048610</td>\n",
       "      <td>-0.057183</td>\n",
       "      <td>-0.058723</td>\n",
       "      <td>-0.143341</td>\n",
       "      <td>-0.096989</td>\n",
       "      <td>-0.109262</td>\n",
       "      <td>-0.012759</td>\n",
       "    </tr>\n",
       "    <tr>\n",
       "      <th>sales_hr</th>\n",
       "      <td>-0.012841</td>\n",
       "      <td>-0.009645</td>\n",
       "      <td>-0.027356</td>\n",
       "      <td>-0.010783</td>\n",
       "      <td>-0.022194</td>\n",
       "      <td>-0.015649</td>\n",
       "      <td>0.028249</td>\n",
       "      <td>-0.001531</td>\n",
       "      <td>-0.067949</td>\n",
       "      <td>-0.053570</td>\n",
       "      <td>-0.052848</td>\n",
       "      <td>1.000000</td>\n",
       "      <td>-0.047667</td>\n",
       "      <td>-0.056075</td>\n",
       "      <td>-0.057584</td>\n",
       "      <td>-0.140562</td>\n",
       "      <td>-0.095109</td>\n",
       "      <td>-0.107143</td>\n",
       "      <td>-0.004599</td>\n",
       "    </tr>\n",
       "    <tr>\n",
       "      <th>sales_management</th>\n",
       "      <td>0.007172</td>\n",
       "      <td>0.009662</td>\n",
       "      <td>0.009728</td>\n",
       "      <td>0.000834</td>\n",
       "      <td>0.115436</td>\n",
       "      <td>0.011242</td>\n",
       "      <td>-0.046035</td>\n",
       "      <td>0.128087</td>\n",
       "      <td>-0.062500</td>\n",
       "      <td>-0.049274</td>\n",
       "      <td>-0.048610</td>\n",
       "      <td>-0.047667</td>\n",
       "      <td>1.000000</td>\n",
       "      <td>-0.051578</td>\n",
       "      <td>-0.052966</td>\n",
       "      <td>-0.129289</td>\n",
       "      <td>-0.087482</td>\n",
       "      <td>-0.098551</td>\n",
       "      <td>-0.156665</td>\n",
       "    </tr>\n",
       "    <tr>\n",
       "      <th>sales_marketing</th>\n",
       "      <td>0.005715</td>\n",
       "      <td>-0.000311</td>\n",
       "      <td>-0.023064</td>\n",
       "      <td>-0.008210</td>\n",
       "      <td>0.012096</td>\n",
       "      <td>0.011367</td>\n",
       "      <td>-0.000859</td>\n",
       "      <td>0.049253</td>\n",
       "      <td>-0.073524</td>\n",
       "      <td>-0.057965</td>\n",
       "      <td>-0.057183</td>\n",
       "      <td>-0.056075</td>\n",
       "      <td>-0.051578</td>\n",
       "      <td>1.000000</td>\n",
       "      <td>-0.062308</td>\n",
       "      <td>-0.152093</td>\n",
       "      <td>-0.102911</td>\n",
       "      <td>-0.115933</td>\n",
       "      <td>-0.011599</td>\n",
       "    </tr>\n",
       "    <tr>\n",
       "      <th>sales_product_mng</th>\n",
       "      <td>0.006919</td>\n",
       "      <td>-0.001989</td>\n",
       "      <td>0.000829</td>\n",
       "      <td>-0.005494</td>\n",
       "      <td>-0.003919</td>\n",
       "      <td>0.001246</td>\n",
       "      <td>-0.011029</td>\n",
       "      <td>-0.037288</td>\n",
       "      <td>-0.075503</td>\n",
       "      <td>-0.059525</td>\n",
       "      <td>-0.058723</td>\n",
       "      <td>-0.057584</td>\n",
       "      <td>-0.052966</td>\n",
       "      <td>-0.062308</td>\n",
       "      <td>1.000000</td>\n",
       "      <td>-0.156187</td>\n",
       "      <td>-0.105682</td>\n",
       "      <td>-0.119054</td>\n",
       "      <td>0.007669</td>\n",
       "    </tr>\n",
       "    <tr>\n",
       "      <th>sales_sales</th>\n",
       "      <td>0.004007</td>\n",
       "      <td>-0.023031</td>\n",
       "      <td>-0.013388</td>\n",
       "      <td>-0.001718</td>\n",
       "      <td>0.015150</td>\n",
       "      <td>-0.004955</td>\n",
       "      <td>0.009923</td>\n",
       "      <td>0.012353</td>\n",
       "      <td>-0.184302</td>\n",
       "      <td>-0.145300</td>\n",
       "      <td>-0.143341</td>\n",
       "      <td>-0.140562</td>\n",
       "      <td>-0.129289</td>\n",
       "      <td>-0.152093</td>\n",
       "      <td>-0.156187</td>\n",
       "      <td>1.000000</td>\n",
       "      <td>-0.257967</td>\n",
       "      <td>-0.290608</td>\n",
       "      <td>0.035599</td>\n",
       "    </tr>\n",
       "    <tr>\n",
       "      <th>sales_support</th>\n",
       "      <td>0.009185</td>\n",
       "      <td>0.017104</td>\n",
       "      <td>0.000303</td>\n",
       "      <td>-0.002444</td>\n",
       "      <td>-0.030111</td>\n",
       "      <td>0.012079</td>\n",
       "      <td>0.010700</td>\n",
       "      <td>-0.035605</td>\n",
       "      <td>-0.124705</td>\n",
       "      <td>-0.098315</td>\n",
       "      <td>-0.096989</td>\n",
       "      <td>-0.095109</td>\n",
       "      <td>-0.087482</td>\n",
       "      <td>-0.102911</td>\n",
       "      <td>-0.105682</td>\n",
       "      <td>-0.257967</td>\n",
       "      <td>1.000000</td>\n",
       "      <td>-0.196636</td>\n",
       "      <td>0.029888</td>\n",
       "    </tr>\n",
       "    <tr>\n",
       "      <th>sales_technical</th>\n",
       "      <td>-0.009345</td>\n",
       "      <td>0.013742</td>\n",
       "      <td>0.028596</td>\n",
       "      <td>0.013638</td>\n",
       "      <td>-0.027991</td>\n",
       "      <td>-0.006070</td>\n",
       "      <td>0.020076</td>\n",
       "      <td>-0.035799</td>\n",
       "      <td>-0.140484</td>\n",
       "      <td>-0.110755</td>\n",
       "      <td>-0.109262</td>\n",
       "      <td>-0.107143</td>\n",
       "      <td>-0.098551</td>\n",
       "      <td>-0.115933</td>\n",
       "      <td>-0.119054</td>\n",
       "      <td>-0.290608</td>\n",
       "      <td>-0.196636</td>\n",
       "      <td>1.000000</td>\n",
       "      <td>0.018630</td>\n",
       "    </tr>\n",
       "    <tr>\n",
       "      <th>salary_numeric</th>\n",
       "      <td>-0.050022</td>\n",
       "      <td>0.013002</td>\n",
       "      <td>0.001803</td>\n",
       "      <td>0.002242</td>\n",
       "      <td>-0.048715</td>\n",
       "      <td>-0.009247</td>\n",
       "      <td>0.157898</td>\n",
       "      <td>-0.098119</td>\n",
       "      <td>0.010959</td>\n",
       "      <td>-0.002800</td>\n",
       "      <td>-0.012759</td>\n",
       "      <td>-0.004599</td>\n",
       "      <td>-0.156665</td>\n",
       "      <td>-0.011599</td>\n",
       "      <td>0.007669</td>\n",
       "      <td>0.035599</td>\n",
       "      <td>0.029888</td>\n",
       "      <td>0.018630</td>\n",
       "      <td>1.000000</td>\n",
       "    </tr>\n",
       "  </tbody>\n",
       "</table>\n",
       "</div>"
      ],
      "text/plain": [
       "                       satisfaction_level  last_evaluation  number_project  \\\n",
       "satisfaction_level               1.000000         0.105021       -0.142970   \n",
       "last_evaluation                  0.105021         1.000000        0.349333   \n",
       "number_project                  -0.142970         0.349333        1.000000   \n",
       "average_montly_hours            -0.020048         0.339742        0.417211   \n",
       "time_spend_company              -0.100866         0.131591        0.196786   \n",
       "Work_accident                    0.058697        -0.007104       -0.004741   \n",
       "left                            -0.388375         0.006567        0.023787   \n",
       "promotion_last_5years            0.025605        -0.008684       -0.006064   \n",
       "sales_IT                         0.006373         0.001269        0.003287   \n",
       "sales_RandD                      0.006615        -0.005471        0.009703   \n",
       "sales_accounting                -0.028649         0.002193        0.004189   \n",
       "sales_hr                        -0.012841        -0.009645       -0.027356   \n",
       "sales_management                 0.007172         0.009662        0.009728   \n",
       "sales_marketing                  0.005715        -0.000311       -0.023064   \n",
       "sales_product_mng                0.006919        -0.001989        0.000829   \n",
       "sales_sales                      0.004007        -0.023031       -0.013388   \n",
       "sales_support                    0.009185         0.017104        0.000303   \n",
       "sales_technical                 -0.009345         0.013742        0.028596   \n",
       "salary_numeric                  -0.050022         0.013002        0.001803   \n",
       "\n",
       "                       average_montly_hours  time_spend_company  \\\n",
       "satisfaction_level                -0.020048           -0.100866   \n",
       "last_evaluation                    0.339742            0.131591   \n",
       "number_project                     0.417211            0.196786   \n",
       "average_montly_hours               1.000000            0.127755   \n",
       "time_spend_company                 0.127755            1.000000   \n",
       "Work_accident                     -0.010143            0.002120   \n",
       "left                               0.071287            0.144822   \n",
       "promotion_last_5years             -0.003544            0.067433   \n",
       "sales_IT                           0.006967           -0.006053   \n",
       "sales_RandD                       -0.001177           -0.021116   \n",
       "sales_accounting                   0.000524            0.003909   \n",
       "sales_hr                          -0.010783           -0.022194   \n",
       "sales_management                   0.000834            0.115436   \n",
       "sales_marketing                   -0.008210            0.012096   \n",
       "sales_product_mng                 -0.005494           -0.003919   \n",
       "sales_sales                       -0.001718            0.015150   \n",
       "sales_support                     -0.002444           -0.030111   \n",
       "sales_technical                    0.013638           -0.027991   \n",
       "salary_numeric                     0.002242           -0.048715   \n",
       "\n",
       "                       Work_accident      left  promotion_last_5years  \\\n",
       "satisfaction_level          0.058697 -0.388375               0.025605   \n",
       "last_evaluation            -0.007104  0.006567              -0.008684   \n",
       "number_project             -0.004741  0.023787              -0.006064   \n",
       "average_montly_hours       -0.010143  0.071287              -0.003544   \n",
       "time_spend_company          0.002120  0.144822               0.067433   \n",
       "Work_accident               1.000000 -0.154622               0.039245   \n",
       "left                       -0.154622  1.000000              -0.061788   \n",
       "promotion_last_5years       0.039245 -0.061788               1.000000   \n",
       "sales_IT                   -0.009293 -0.010925              -0.038942   \n",
       "sales_RandD                 0.017167 -0.046596               0.021268   \n",
       "sales_accounting           -0.012836  0.015201              -0.004852   \n",
       "sales_hr                   -0.015649  0.028249              -0.001531   \n",
       "sales_management            0.011242 -0.046035               0.128087   \n",
       "sales_marketing             0.011367 -0.000859               0.049253   \n",
       "sales_product_mng           0.001246 -0.011029              -0.037288   \n",
       "sales_sales                -0.004955  0.009923               0.012353   \n",
       "sales_support               0.012079  0.010700              -0.035605   \n",
       "sales_technical            -0.006070  0.020076              -0.035799   \n",
       "salary_numeric             -0.009247  0.157898              -0.098119   \n",
       "\n",
       "                       sales_IT  sales_RandD  sales_accounting  sales_hr  \\\n",
       "satisfaction_level     0.006373     0.006615         -0.028649 -0.012841   \n",
       "last_evaluation        0.001269    -0.005471          0.002193 -0.009645   \n",
       "number_project         0.003287     0.009703          0.004189 -0.027356   \n",
       "average_montly_hours   0.006967    -0.001177          0.000524 -0.010783   \n",
       "time_spend_company    -0.006053    -0.021116          0.003909 -0.022194   \n",
       "Work_accident         -0.009293     0.017167         -0.012836 -0.015649   \n",
       "left                  -0.010925    -0.046596          0.015201  0.028249   \n",
       "promotion_last_5years -0.038942     0.021268         -0.004852 -0.001531   \n",
       "sales_IT               1.000000    -0.070240         -0.069293 -0.067949   \n",
       "sales_RandD           -0.070240     1.000000         -0.054629 -0.053570   \n",
       "sales_accounting      -0.069293    -0.054629          1.000000 -0.052848   \n",
       "sales_hr              -0.067949    -0.053570         -0.052848  1.000000   \n",
       "sales_management      -0.062500    -0.049274         -0.048610 -0.047667   \n",
       "sales_marketing       -0.073524    -0.057965         -0.057183 -0.056075   \n",
       "sales_product_mng     -0.075503    -0.059525         -0.058723 -0.057584   \n",
       "sales_sales           -0.184302    -0.145300         -0.143341 -0.140562   \n",
       "sales_support         -0.124705    -0.098315         -0.096989 -0.095109   \n",
       "sales_technical       -0.140484    -0.110755         -0.109262 -0.107143   \n",
       "salary_numeric         0.010959    -0.002800         -0.012759 -0.004599   \n",
       "\n",
       "                       sales_management  sales_marketing  sales_product_mng  \\\n",
       "satisfaction_level             0.007172         0.005715           0.006919   \n",
       "last_evaluation                0.009662        -0.000311          -0.001989   \n",
       "number_project                 0.009728        -0.023064           0.000829   \n",
       "average_montly_hours           0.000834        -0.008210          -0.005494   \n",
       "time_spend_company             0.115436         0.012096          -0.003919   \n",
       "Work_accident                  0.011242         0.011367           0.001246   \n",
       "left                          -0.046035        -0.000859          -0.011029   \n",
       "promotion_last_5years          0.128087         0.049253          -0.037288   \n",
       "sales_IT                      -0.062500        -0.073524          -0.075503   \n",
       "sales_RandD                   -0.049274        -0.057965          -0.059525   \n",
       "sales_accounting              -0.048610        -0.057183          -0.058723   \n",
       "sales_hr                      -0.047667        -0.056075          -0.057584   \n",
       "sales_management               1.000000        -0.051578          -0.052966   \n",
       "sales_marketing               -0.051578         1.000000          -0.062308   \n",
       "sales_product_mng             -0.052966        -0.062308           1.000000   \n",
       "sales_sales                   -0.129289        -0.152093          -0.156187   \n",
       "sales_support                 -0.087482        -0.102911          -0.105682   \n",
       "sales_technical               -0.098551        -0.115933          -0.119054   \n",
       "salary_numeric                -0.156665        -0.011599           0.007669   \n",
       "\n",
       "                       sales_sales  sales_support  sales_technical  \\\n",
       "satisfaction_level        0.004007       0.009185        -0.009345   \n",
       "last_evaluation          -0.023031       0.017104         0.013742   \n",
       "number_project           -0.013388       0.000303         0.028596   \n",
       "average_montly_hours     -0.001718      -0.002444         0.013638   \n",
       "time_spend_company        0.015150      -0.030111        -0.027991   \n",
       "Work_accident            -0.004955       0.012079        -0.006070   \n",
       "left                      0.009923       0.010700         0.020076   \n",
       "promotion_last_5years     0.012353      -0.035605        -0.035799   \n",
       "sales_IT                 -0.184302      -0.124705        -0.140484   \n",
       "sales_RandD              -0.145300      -0.098315        -0.110755   \n",
       "sales_accounting         -0.143341      -0.096989        -0.109262   \n",
       "sales_hr                 -0.140562      -0.095109        -0.107143   \n",
       "sales_management         -0.129289      -0.087482        -0.098551   \n",
       "sales_marketing          -0.152093      -0.102911        -0.115933   \n",
       "sales_product_mng        -0.156187      -0.105682        -0.119054   \n",
       "sales_sales               1.000000      -0.257967        -0.290608   \n",
       "sales_support            -0.257967       1.000000        -0.196636   \n",
       "sales_technical          -0.290608      -0.196636         1.000000   \n",
       "salary_numeric            0.035599       0.029888         0.018630   \n",
       "\n",
       "                       salary_numeric  \n",
       "satisfaction_level          -0.050022  \n",
       "last_evaluation              0.013002  \n",
       "number_project               0.001803  \n",
       "average_montly_hours         0.002242  \n",
       "time_spend_company          -0.048715  \n",
       "Work_accident               -0.009247  \n",
       "left                         0.157898  \n",
       "promotion_last_5years       -0.098119  \n",
       "sales_IT                     0.010959  \n",
       "sales_RandD                 -0.002800  \n",
       "sales_accounting            -0.012759  \n",
       "sales_hr                    -0.004599  \n",
       "sales_management            -0.156665  \n",
       "sales_marketing             -0.011599  \n",
       "sales_product_mng            0.007669  \n",
       "sales_sales                  0.035599  \n",
       "sales_support                0.029888  \n",
       "sales_technical              0.018630  \n",
       "salary_numeric               1.000000  "
      ]
     },
     "execution_count": 38,
     "metadata": {},
     "output_type": "execute_result"
    }
   ],
   "source": [
    "data.corr()"
   ]
  },
  {
   "cell_type": "markdown",
   "metadata": {},
   "source": [
    "Les variables qui sont positivement associées à la caractéristique 'left' sont : 'last_evaluation', 'number_project', 'average_montly_hours', 'time_spend_company', 'sales_accounting', 'sales_hr', 'sales_sales', 'sales_support', 'sales_technical', 'salary_numeric'.\n",
    "\n",
    "Une dernière étape avant de commencer à appliquer les modèles de classification consiste à séparer la variable prédite 'left' avec le reste des variables prédictives, puis à diviser l'ensemble de données en sous-ensembles de train set et de test set. Cette division nous assure que notre modèle fonctionne bien sur un nouvel ensemble de données. \n",
    "\n",
    "Notre *target* est donc 'left'.\n",
    "Nous avons pris 80% de nos données pour le train set et 20 % pour l'ensemble de test."
   ]
  },
  {
   "cell_type": "code",
   "execution_count": 39,
   "metadata": {
    "scrolled": true
   },
   "outputs": [
    {
     "name": "stdout",
     "output_type": "stream",
     "text": [
      "y variable being our output variable \n",
      " ['left']\n",
      "X variable being our input dataframe \n",
      " ['satisfaction_level', 'last_evaluation', 'number_project', 'average_montly_hours', 'time_spend_company', 'Work_accident', 'promotion_last_5years', 'sales_IT', 'sales_RandD', 'sales_accounting', 'sales_hr', 'sales_management', 'sales_marketing', 'sales_product_mng', 'sales_sales', 'sales_support', 'sales_technical', 'salary_numeric']\n"
     ]
    }
   ],
   "source": [
    "data_vars=data.columns.values.tolist()\n",
    "y = ['left']\n",
    "X = [i for i in data_vars if i not in y]\n",
    "\n",
    "print('y variable being our output variable \\n', y)\n",
    "print('X variable being our input dataframe \\n', X)"
   ]
  },
  {
   "cell_type": "markdown",
   "metadata": {},
   "source": [
    "Nous utilisons Recursive Feature Elimination (RFE) qui fonctionne de manière récursive en supprimant des variables et en construisant un modèle sur les variables qui restent dans ce processus. Elle utilise également la précision du modèle pour trouver quelles variables ou combinaisons de variables contribuent le plus à la prédiction de l'attribut cible."
   ]
  },
  {
   "cell_type": "code",
   "execution_count": 40,
   "metadata": {
    "scrolled": true
   },
   "outputs": [
    {
     "name": "stderr",
     "output_type": "stream",
     "text": [
      "C:\\Users\\Loana\\anaconda3\\lib\\site-packages\\sklearn\\utils\\validation.py:67: FutureWarning: Pass n_features_to_select=10 as keyword args. From version 0.25 passing these as positional arguments will result in an error\n",
      "  warnings.warn(\"Pass {} as keyword args. From version 0.25 \"\n",
      "C:\\Users\\Loana\\anaconda3\\lib\\site-packages\\sklearn\\utils\\validation.py:72: DataConversionWarning: A column-vector y was passed when a 1d array was expected. Please change the shape of y to (n_samples, ), for example using ravel().\n",
      "  return f(**kwargs)\n",
      "C:\\Users\\Loana\\anaconda3\\lib\\site-packages\\sklearn\\linear_model\\_logistic.py:762: ConvergenceWarning: lbfgs failed to converge (status=1):\n",
      "STOP: TOTAL NO. of ITERATIONS REACHED LIMIT.\n",
      "\n",
      "Increase the number of iterations (max_iter) or scale the data as shown in:\n",
      "    https://scikit-learn.org/stable/modules/preprocessing.html\n",
      "Please also refer to the documentation for alternative solver options:\n",
      "    https://scikit-learn.org/stable/modules/linear_model.html#logistic-regression\n",
      "  n_iter_i = _check_optimize_result(\n",
      "C:\\Users\\Loana\\anaconda3\\lib\\site-packages\\sklearn\\utils\\validation.py:72: DataConversionWarning: A column-vector y was passed when a 1d array was expected. Please change the shape of y to (n_samples, ), for example using ravel().\n",
      "  return f(**kwargs)\n",
      "C:\\Users\\Loana\\anaconda3\\lib\\site-packages\\sklearn\\linear_model\\_logistic.py:762: ConvergenceWarning: lbfgs failed to converge (status=1):\n",
      "STOP: TOTAL NO. of ITERATIONS REACHED LIMIT.\n",
      "\n",
      "Increase the number of iterations (max_iter) or scale the data as shown in:\n",
      "    https://scikit-learn.org/stable/modules/preprocessing.html\n",
      "Please also refer to the documentation for alternative solver options:\n",
      "    https://scikit-learn.org/stable/modules/linear_model.html#logistic-regression\n",
      "  n_iter_i = _check_optimize_result(\n",
      "C:\\Users\\Loana\\anaconda3\\lib\\site-packages\\sklearn\\utils\\validation.py:72: DataConversionWarning: A column-vector y was passed when a 1d array was expected. Please change the shape of y to (n_samples, ), for example using ravel().\n",
      "  return f(**kwargs)\n",
      "C:\\Users\\Loana\\anaconda3\\lib\\site-packages\\sklearn\\utils\\validation.py:72: DataConversionWarning: A column-vector y was passed when a 1d array was expected. Please change the shape of y to (n_samples, ), for example using ravel().\n",
      "  return f(**kwargs)\n",
      "C:\\Users\\Loana\\anaconda3\\lib\\site-packages\\sklearn\\utils\\validation.py:72: DataConversionWarning: A column-vector y was passed when a 1d array was expected. Please change the shape of y to (n_samples, ), for example using ravel().\n",
      "  return f(**kwargs)\n",
      "C:\\Users\\Loana\\anaconda3\\lib\\site-packages\\sklearn\\utils\\validation.py:72: DataConversionWarning: A column-vector y was passed when a 1d array was expected. Please change the shape of y to (n_samples, ), for example using ravel().\n",
      "  return f(**kwargs)\n",
      "C:\\Users\\Loana\\anaconda3\\lib\\site-packages\\sklearn\\utils\\validation.py:72: DataConversionWarning: A column-vector y was passed when a 1d array was expected. Please change the shape of y to (n_samples, ), for example using ravel().\n",
      "  return f(**kwargs)\n",
      "C:\\Users\\Loana\\anaconda3\\lib\\site-packages\\sklearn\\utils\\validation.py:72: DataConversionWarning: A column-vector y was passed when a 1d array was expected. Please change the shape of y to (n_samples, ), for example using ravel().\n",
      "  return f(**kwargs)\n",
      "C:\\Users\\Loana\\anaconda3\\lib\\site-packages\\sklearn\\utils\\validation.py:72: DataConversionWarning: A column-vector y was passed when a 1d array was expected. Please change the shape of y to (n_samples, ), for example using ravel().\n",
      "  return f(**kwargs)\n"
     ]
    },
    {
     "name": "stdout",
     "output_type": "stream",
     "text": [
      "[ True  True  True False  True  True  True False  True False  True  True\n",
      " False False False False False  True]\n",
      "[1 1 1 9 1 1 1 2 1 6 1 1 7 3 8 5 4 1]\n"
     ]
    }
   ],
   "source": [
    "from sklearn.feature_selection import RFE \n",
    "from sklearn.linear_model import LogisticRegression\n",
    "\n",
    "lr = LogisticRegression()\n",
    "rfe = RFE(lr, 10)\n",
    "rfe = rfe.fit(data[X], data[y])\n",
    "\n",
    "print(rfe.support_)\n",
    "print(rfe.ranking_)"
   ]
  },
  {
   "cell_type": "markdown",
   "metadata": {},
   "source": [
    "Nous pouvons voir que RFE a choisi pour nous les 10 variables, qui sont marquées True dans le tableau support et marquées d'un chiffre \"1\" dans le tableau ranking_array : 'satisfaction_level', 'last_evaluation', 'number_project' 'time_spend_company', 'Work_accident', 'promotion_last_5years', 'sales_RandD', 'sales_hr', 'sales_management', 'salary_numeric'."
   ]
  },
  {
   "cell_type": "code",
   "execution_count": 41,
   "metadata": {},
   "outputs": [],
   "source": [
    "col_RFE = ['satisfaction_level', 'last_evaluation', 'number_project', 'time_spend_company', 'Work_accident', \n",
    "           'promotion_last_5years', 'sales_RandD', 'sales_hr', 'sales_management', 'salary_numeric']\n",
    "\n",
    "X = data[col_RFE]\n",
    "y = data['left']"
   ]
  },
  {
   "cell_type": "code",
   "execution_count": 42,
   "metadata": {},
   "outputs": [],
   "source": [
    "from sklearn.model_selection import train_test_split\n",
    "\n",
    "X_train, X_test, y_train, y_test = train_test_split(X, y, test_size=0.2, random_state=0)"
   ]
  },
  {
   "cell_type": "markdown",
   "metadata": {},
   "source": [
    "### Logistic Regression"
   ]
  },
  {
   "cell_type": "code",
   "execution_count": 43,
   "metadata": {},
   "outputs": [
    {
     "data": {
      "text/plain": [
       "LogisticRegression()"
      ]
     },
     "execution_count": 43,
     "metadata": {},
     "output_type": "execute_result"
    }
   ],
   "source": [
    "from sklearn.linear_model import LogisticRegression\n",
    "\n",
    "logreg = LogisticRegression()\n",
    "logreg.fit(X_train, y_train)"
   ]
  },
  {
   "cell_type": "code",
   "execution_count": 44,
   "metadata": {
    "scrolled": true
   },
   "outputs": [
    {
     "name": "stdout",
     "output_type": "stream",
     "text": [
      "Train accuracy : 0.798\n",
      "Test accuracy : 0.796\n"
     ]
    }
   ],
   "source": [
    "from sklearn.metrics import accuracy_score\n",
    "\n",
    "print('Train accuracy : {:.3f}'.format(accuracy_score(y_train, logreg.predict(X_train))))\n",
    "print('Test accuracy : {:.3f}'.format(accuracy_score(y_test, logreg.predict(X_test))))"
   ]
  },
  {
   "cell_type": "code",
   "execution_count": 45,
   "metadata": {
    "scrolled": true
   },
   "outputs": [
    {
     "name": "stdout",
     "output_type": "stream",
     "text": [
      "              precision    recall  f1-score   support\n",
      "\n",
      "           0       0.83      0.92      0.87      2299\n",
      "           1       0.60      0.37      0.46       701\n",
      "\n",
      "    accuracy                           0.80      3000\n",
      "   macro avg       0.72      0.65      0.67      3000\n",
      "weighted avg       0.78      0.80      0.78      3000\n",
      "\n"
     ]
    }
   ],
   "source": [
    "from sklearn.metrics import classification_report\n",
    "\n",
    "print(classification_report(y_test, logreg.predict(X_test)))"
   ]
  },
  {
   "cell_type": "code",
   "execution_count": 46,
   "metadata": {},
   "outputs": [
    {
     "data": {
      "text/plain": [
       "array([[2126,  173],\n",
       "       [ 439,  262]], dtype=int64)"
      ]
     },
     "execution_count": 46,
     "metadata": {},
     "output_type": "execute_result"
    }
   ],
   "source": [
    "from sklearn.metrics import confusion_matrix\n",
    "\n",
    "logreg_y_pred = logreg.predict(X_test)\n",
    "cm = confusion_matrix(y_test, logreg_y_pred)\n",
    "cm"
   ]
  },
  {
   "cell_type": "markdown",
   "metadata": {},
   "source": [
    "### Random Forest"
   ]
  },
  {
   "cell_type": "code",
   "execution_count": 47,
   "metadata": {},
   "outputs": [
    {
     "data": {
      "text/plain": [
       "RandomForestClassifier()"
      ]
     },
     "execution_count": 47,
     "metadata": {},
     "output_type": "execute_result"
    }
   ],
   "source": [
    "from sklearn.ensemble import RandomForestClassifier\n",
    "\n",
    "rf = RandomForestClassifier()\n",
    "rf.fit(X_train, y_train)"
   ]
  },
  {
   "cell_type": "code",
   "execution_count": 48,
   "metadata": {},
   "outputs": [
    {
     "name": "stdout",
     "output_type": "stream",
     "text": [
      "Train accuracy : 0.999\n",
      "Test accuracy : 0.989\n"
     ]
    }
   ],
   "source": [
    "print('Train accuracy : {:.3f}'.format(accuracy_score(y_train, rf.predict(X_train))))\n",
    "print('Test accuracy : {:.3f}'.format(accuracy_score(y_test, rf.predict(X_test))))"
   ]
  },
  {
   "cell_type": "code",
   "execution_count": 49,
   "metadata": {
    "scrolled": true
   },
   "outputs": [
    {
     "name": "stdout",
     "output_type": "stream",
     "text": [
      "              precision    recall  f1-score   support\n",
      "\n",
      "           0       0.99      0.99      0.99      2299\n",
      "           1       0.98      0.97      0.98       701\n",
      "\n",
      "    accuracy                           0.99      3000\n",
      "   macro avg       0.99      0.98      0.99      3000\n",
      "weighted avg       0.99      0.99      0.99      3000\n",
      "\n"
     ]
    }
   ],
   "source": [
    "print(classification_report(y_test, rf.predict(X_test)))"
   ]
  },
  {
   "cell_type": "code",
   "execution_count": 50,
   "metadata": {},
   "outputs": [
    {
     "data": {
      "text/plain": [
       "array([[2286,   13],\n",
       "       [  19,  682]], dtype=int64)"
      ]
     },
     "execution_count": 50,
     "metadata": {},
     "output_type": "execute_result"
    }
   ],
   "source": [
    "rf_y_pred = rf.predict(X_test)\n",
    "\n",
    "cm = confusion_matrix(y_test, rf_y_pred)\n",
    "cm"
   ]
  },
  {
   "cell_type": "markdown",
   "metadata": {},
   "source": [
    "## Support Vector Machine"
   ]
  },
  {
   "cell_type": "code",
   "execution_count": 51,
   "metadata": {},
   "outputs": [
    {
     "data": {
      "text/plain": [
       "SVC()"
      ]
     },
     "execution_count": 51,
     "metadata": {},
     "output_type": "execute_result"
    }
   ],
   "source": [
    "from sklearn.svm import SVC\n",
    "\n",
    "svc = SVC()\n",
    "svc.fit(X_train, y_train)"
   ]
  },
  {
   "cell_type": "code",
   "execution_count": 52,
   "metadata": {
    "scrolled": true
   },
   "outputs": [
    {
     "name": "stdout",
     "output_type": "stream",
     "text": [
      "Train accuracy: 0.927\n",
      "Test accuracy: 0.933\n"
     ]
    }
   ],
   "source": [
    "print('Train accuracy: {:.3f}'.format(accuracy_score(y_train, svc.predict(X_train))))\n",
    "print('Test accuracy: {:.3f}'.format(accuracy_score(y_test, svc.predict(X_test))))"
   ]
  },
  {
   "cell_type": "code",
   "execution_count": 53,
   "metadata": {
    "scrolled": true
   },
   "outputs": [
    {
     "name": "stdout",
     "output_type": "stream",
     "text": [
      "              precision    recall  f1-score   support\n",
      "\n",
      "           0       0.96      0.95      0.96      2299\n",
      "           1       0.85      0.87      0.86       701\n",
      "\n",
      "    accuracy                           0.93      3000\n",
      "   macro avg       0.90      0.91      0.91      3000\n",
      "weighted avg       0.93      0.93      0.93      3000\n",
      "\n"
     ]
    }
   ],
   "source": [
    "print(classification_report(y_test, svc.predict(X_test)))"
   ]
  },
  {
   "cell_type": "code",
   "execution_count": 54,
   "metadata": {
    "scrolled": true
   },
   "outputs": [
    {
     "data": {
      "text/plain": [
       "array([[2188,  111],\n",
       "       [  91,  610]], dtype=int64)"
      ]
     },
     "execution_count": 54,
     "metadata": {},
     "output_type": "execute_result"
    }
   ],
   "source": [
    "svc_y_pred = svc.predict(X_test)\n",
    "\n",
    "cm = confusion_matrix(y_test, svc_y_pred)\n",
    "cm"
   ]
  },
  {
   "cell_type": "markdown",
   "metadata": {
    "scrolled": true
   },
   "source": [
    "## Model selection\n",
    "Nous avons réalisé 3 modèles de classification : régression logistique, forêt aléatoire et SVM (Support Vector Machine). En dehors de cela, nous savons que si nous faisons face à des problèmes de classification, l'*accuracy* n'est pas le seul paramètre à prendre en compte pour évaluer notre modèle. Pour un problème de classification, il faut également tenir compte de la précision, du recall, de la matrice de confusion (vrai positif, faux positif, vrai négatif, faux négatif).\n",
    "\n",
    "Parlons maintenant de notre problème, à savoir la perte d'employés. Nous devons donc nous concentrer davantage sur le vrai positif et le faux positif. Pour comprendre notre problème, les vrais positifs sont les employés qui quittent l'entreprise et notre modèle de Machine Learning le prédit correctement, et les faux positifs sont les employés qui vont quitter l'entreprise mais notre modèle prédit qu'ils resteront. Nous devons donc garder à l'esprit, avant de sélectionner un modèle parmi les 3 modèles ci-dessus, que le modèle qui a le plus de précision est celui qui a le moins de faux positifs.\n",
    "\n",
    "En examinant les 3 modèles, nous réalisons que Random Forest gagne la course avec une grande précision et une grande exactitude. Cela avec un score de 0,98 pour la précision pour les employés qui vont partir et un test de précision avec 0,988.\n",
    "Nous choisissons donc Ranfom Forest comme le meilleur modèle pour le problème du départ des employés.\n",
    "\n",
    "## Cross Validation\n",
    "La Cross-Validation est l'une des techniques les plus importantes pour généraliser notre modèle ou l'empêcher de s'adapter à notre ensemble de données.\n",
    "\n",
    "Nous utilisons Random Forset comme notre meilleur modèle avec 10 k-fold Cross-Validation."
   ]
  },
  {
   "cell_type": "code",
   "execution_count": 55,
   "metadata": {},
   "outputs": [
    {
     "name": "stderr",
     "output_type": "stream",
     "text": [
      "C:\\Users\\Loana\\anaconda3\\lib\\site-packages\\sklearn\\model_selection\\_split.py:293: FutureWarning: Setting a random_state has no effect since shuffle is False. This will raise an error in 0.24. You should leave random_state to its default (None), or set shuffle=True.\n",
      "  warnings.warn(\n"
     ]
    },
    {
     "name": "stdout",
     "output_type": "stream",
     "text": [
      "10-fold cross validation average accuracy: 0.988\n"
     ]
    }
   ],
   "source": [
    "from sklearn import model_selection\n",
    "from sklearn.model_selection import cross_val_score\n",
    "\n",
    "kfold = model_selection.KFold(n_splits=10, random_state=0)\n",
    "\n",
    "modelCV = RandomForestClassifier()\n",
    "scoring = 'accuracy'\n",
    "results = model_selection.cross_val_score(modelCV, X_train, y_train, cv=kfold, scoring=scoring)\n",
    "\n",
    "print(\"10-fold cross validation average accuracy: %.3f\" % (results.mean()))"
   ]
  },
  {
   "cell_type": "markdown",
   "metadata": {},
   "source": [
    "La précision moyenne reste très proche de la précision du modèle Random Forest. Nous pouvons donc conclure que le modèle se généralise bien.\n",
    "\n",
    "## Courbe ROC\n",
    "Les courbes ROC et AUC nous aident à évaluer quel modèle de classification est le mieux adapté pour le faire fonctionner et à comprendre dans quel modèle et à quel seuil notre modèle nous donne le meilleur rappel ou le taux de vrai positif avec le taux de faux positif le moins élevé.\n",
    "\n",
    "Nous ne considérons pas la VPC dans la courbe ROC car l'analyse de la courbe ROC n'utilise pas la précision ou le taux d'erreur. Une courbe ROC représente la sensibilité (axe des y) en fonction de la spécificité (axe des x) et le SVC donne la probabilité de 0 ou 1 dans la sortie."
   ]
  },
  {
   "cell_type": "code",
   "execution_count": 56,
   "metadata": {},
   "outputs": [
    {
     "data": {
      "image/png": "[encoded data removed]",
      "text/plain": [
       "<Figure size 432x288 with 1 Axes>"
      ]
     },
     "metadata": {
      "needs_background": "light"
     },
     "output_type": "display_data"
    }
   ],
   "source": [
    "from sklearn.metrics import roc_auc_score\n",
    "from sklearn.metrics import roc_curve\n",
    "\n",
    "logit_roc_auc = roc_auc_score(y_test, logreg.predict(X_test))\n",
    "fpr, tpr, thresholds = roc_curve(y_test, logreg.predict_proba(X_test)[:,1])\n",
    "\n",
    "rf_roc_auc = roc_auc_score(y_test, rf.predict(X_test))\n",
    "rf_fpr, rf_tpr, rf_thresholds = roc_curve(y_test, rf.predict_proba(X_test)[:,1])\n",
    "\n",
    "plt.figure()\n",
    "plt.plot(fpr, tpr, label='Logistic Regression (area = %0.2f)' % logit_roc_auc)\n",
    "plt.plot(rf_fpr, rf_tpr, label='Random Forest (area = %0.2f)' % rf_roc_auc)\n",
    "plt.plot([0, 1], [0, 1],'r--')\n",
    "plt.xlim([0.0, 1.0])\n",
    "plt.ylim([0.0, 1.05])\n",
    "plt.xlabel('Taux de Faux Positif')\n",
    "plt.ylabel('Taux de Vrai Positif')\n",
    "plt.title('Courbes ROC')\n",
    "plt.legend(loc=\"lower right\")\n",
    "plt.show()"
   ]
  },
  {
   "cell_type": "markdown",
   "metadata": {},
   "source": [
    "Random Forest est le meilleur modèle pour ce problème spécifique car il est loin de la ligne pointillée qui représente la courbe ROC d'un classificateur purement aléatoire. Un bon *classifier* se tient aussi loin que possible de cette ligne que vers le coin supérieur gauche (forme d'angle droit).\n",
    "\n",
    "## Pourquoi les meilleurs employés et les plus expérimentés partent prématurément\n",
    "Nous voulons comprendre quelle variable affecte le plus le taux de roulement des employés. Cela peut aider le responsable des ressources humaines à comprendre pourquoi un employé va changer d'emploi et à se concentrer sur le maintien de cet employé et à essayer d'améliorer ce secteur de l'entreprise."
   ]
  },
  {
   "cell_type": "code",
   "execution_count": 57,
   "metadata": {
    "scrolled": true
   },
   "outputs": [
    {
     "name": "stdout",
     "output_type": "stream",
     "text": [
      "promotion_last_5years-0.18%\n",
      "sales_management-0.20%\n",
      "sales_hr-0.24%\n",
      "sales_RandD-0.24%\n",
      "Work_accident-0.95%\n",
      "salary_numeric-1.40%\n",
      "last_evaluation-16.32%\n",
      "number_project-18.94%\n",
      "time_spend_company-21.57%\n",
      "satisfaction_level-39.96%\n"
     ]
    }
   ],
   "source": [
    "feature_labels = np.array(['satisfaction_level', 'last_evaluation', 'number_project', 'time_spend_company', 'Work_accident',\n",
    "                           'promotion_last_5years', 'sales_RandD', 'sales_hr', 'sales_management', 'salary_numeric'])\n",
    "\n",
    "importance = rf.feature_importances_\n",
    "feature_indexes_by_importance = importance.argsort()\n",
    "\n",
    "for index in feature_indexes_by_importance:\n",
    "    print('{}-{:.2f}%'.format(feature_labels[index], (importance[index] *100.0)))"
   ]
  },
  {
   "cell_type": "markdown",
   "metadata": {},
   "source": [
    "Les résultats ci-dessus montrent l'importance de chaque variable par ordre croissant, 'sales_management' et 'promotion_last_5years' étant les moins importantes et 'satisfaction_level' étant la variable la plus importante pour comprendre la raison du départ des employés."
   ]
  }
 ],
 "metadata": {
  "kernelspec": {
   "display_name": "Python 3",
   "language": "python",
   "name": "python3"
  },
  "language_info": {
   "codemirror_mode": {
    "name": "ipython",
    "version": 3
   },
   "file_extension": ".py",
   "mimetype": "text/x-python",
   "name": "python",
   "nbconvert_exporter": "python",
   "pygments_lexer": "ipython3",
   "version": "3.8.5"
  }
 },
 "nbformat": 4,
 "nbformat_minor": 4
}
